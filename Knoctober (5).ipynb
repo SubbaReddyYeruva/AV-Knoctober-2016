{
 "cells": [
  {
   "cell_type": "code",
   "execution_count": 422,
   "metadata": {
    "collapsed": false
   },
   "outputs": [
    {
     "data": {
      "text/plain": [
       "'C:\\\\Users\\\\Subba Reddy Yeruva\\\\Desktop\\\\New folder\\\\Train_2\\\\Train'"
      ]
     },
     "execution_count": 422,
     "metadata": {},
     "output_type": "execute_result"
    }
   ],
   "source": [
    "import os\n",
    "os.getcwd()"
   ]
  },
  {
   "cell_type": "code",
   "execution_count": 423,
   "metadata": {
    "collapsed": false
   },
   "outputs": [
    {
     "data": {
      "text/plain": [
       "'C:\\\\Users\\\\Subba Reddy Yeruva\\\\Desktop\\\\New folder\\\\Train_2\\\\Train'"
      ]
     },
     "execution_count": 423,
     "metadata": {},
     "output_type": "execute_result"
    }
   ],
   "source": [
    "os.chdir('C:\\\\Users\\\\Subba Reddy Yeruva\\\\Desktop\\\\New folder\\\\Train_2\\\\Train')\n",
    "\n",
    "path = os.getcwd()\n",
    "os.getcwd()"
   ]
  },
  {
   "cell_type": "code",
   "execution_count": 424,
   "metadata": {
    "collapsed": false
   },
   "outputs": [],
   "source": [
    "import numpy as np\n",
    "import pandas as pd\n",
    "\n",
    "from sklearn.cross_validation import train_test_split\n",
    "from sklearn.ensemble import RandomForestRegressor\n",
    "from sklearn.preprocessing import LabelEncoder\n",
    "from sklearn.preprocessing import Normalizer\n",
    "from sklearn.cross_validation import cross_val_score\n",
    "from sklearn.preprocessing import Imputer\n",
    "\n",
    "import seaborn as sns\n",
    "import matplotlib.pyplot as plt\n",
    "%matplotlib inline\n",
    "\n",
    "from scipy.stats import skew\n",
    "\n",
    "data_path = \"C:/Users/Subba Reddy Yeruva/Desktop/New folder/Train_2/Train/\"\n",
    "first_camp = pd.read_csv( data_path + \"First_Health_Camp_Attended.csv\" )\n",
    "second_camp = pd.read_csv( data_path + \"Second_Health_Camp_Attended.csv\" )\n",
    "third_camp = pd.read_csv( data_path + \"Third_Health_Camp_Attended.csv\" )"
   ]
  },
  {
   "cell_type": "code",
   "execution_count": 425,
   "metadata": {
    "collapsed": false
   },
   "outputs": [],
   "source": [
    "col_names = [['Patient_ID','Health_Camp_ID','Outcome']]\n",
    "first_camp = first_camp[['Patient_ID','Health_Camp_ID','Health_Score']]\n",
    "first_camp.columns = col_names\n",
    "second_camp = second_camp[['Patient_ID','Health_Camp_ID','Health Score']]\n",
    "second_camp.columns = col_names\n",
    "third_camp = third_camp[['Patient_ID','Health_Camp_ID','Number_of_stall_visited']]\n",
    "third_camp = third_camp[third_camp['Number_of_stall_visited']>0]\n",
    "third_camp.columns = col_names"
   ]
  },
  {
   "cell_type": "code",
   "execution_count": 426,
   "metadata": {
    "collapsed": false
   },
   "outputs": [
    {
     "name": "stdout",
     "output_type": "stream",
     "text": [
      "(20534, 3)\n"
     ]
    }
   ],
   "source": [
    "all_camps = pd.concat([first_camp, second_camp, third_camp])\n",
    "all_camps['Outcome'] = 1\n",
    "print (all_camps.shape)"
   ]
  },
  {
   "cell_type": "code",
   "execution_count": 427,
   "metadata": {
    "collapsed": false
   },
   "outputs": [
    {
     "name": "stdout",
     "output_type": "stream",
     "text": [
      "(75278, 8)\n"
     ]
    }
   ],
   "source": [
    "train = pd.read_csv(data_path + \"Train.csv\")\n",
    "print (train.shape)"
   ]
  },
  {
   "cell_type": "code",
   "execution_count": 428,
   "metadata": {
    "collapsed": false
   },
   "outputs": [
    {
     "data": {
      "text/plain": [
       "Index(['Patient_ID', 'Health_Camp_ID', 'Registration_Date', 'Var1', 'Var2',\n",
       "       'Var3', 'Var4', 'Var5'],\n",
       "      dtype='object')"
      ]
     },
     "execution_count": 428,
     "metadata": {},
     "output_type": "execute_result"
    }
   ],
   "source": [
    "train.columns"
   ]
  },
  {
   "cell_type": "code",
   "execution_count": 429,
   "metadata": {
    "collapsed": false
   },
   "outputs": [
    {
     "name": "stdout",
     "output_type": "stream",
     "text": [
      "0    54744\n",
      "1    20534\n",
      "Name: Outcome, dtype: int64\n"
     ]
    }
   ],
   "source": [
    "train = train.merge(all_camps, on=['Patient_ID','Health_Camp_ID'], how='left')\n",
    "train['Outcome'] = train['Outcome'].fillna(0).astype('int')\n",
    "train.to_csv(data_path+'train_with_outcome.csv', index=False)\n",
    "print (train.Outcome.value_counts())"
   ]
  },
  {
   "cell_type": "code",
   "execution_count": 430,
   "metadata": {
    "collapsed": false
   },
   "outputs": [
    {
     "name": "stdout",
     "output_type": "stream",
     "text": [
      "0    35249\n",
      "Name: Outcome, dtype: int64\n"
     ]
    }
   ],
   "source": [
    "test = pd.read_csv( data_path + \"test.csv\" )\n",
    "test = test.merge(all_camps, on=['Patient_ID','Health_Camp_ID'], how='left')\n",
    "test['Outcome'] = test['Outcome'].fillna(0).astype('int')\n",
    "print (test.Outcome.value_counts())"
   ]
  },
  {
   "cell_type": "code",
   "execution_count": 431,
   "metadata": {
    "collapsed": true
   },
   "outputs": [],
   "source": [
    "# Patient Profile \n",
    "patient_profile = pd.read_csv( data_path + \"Patient_Profile.csv\" )\n",
    "grouped_df = first_camp.Patient_ID.value_counts().reset_index()\n",
    "grouped_df.columns = [\"Patient_ID\", \"Count1\"]\n",
    "merged_inner1 = pd.merge(left=patient_profile,right=grouped_df, how='left',left_on='Patient_ID', right_on='Patient_ID')\n",
    "grouped_df2 = second_camp.Patient_ID.value_counts().reset_index()\n",
    "grouped_df2.columns = [\"Patient_ID\", \"Count2\"]\n",
    "merged_inner2 = pd.merge(left=merged_inner1,right=grouped_df2, how='left',left_on='Patient_ID', right_on='Patient_ID')\n",
    "grouped_df3 = third_camp.Patient_ID.value_counts().reset_index()\n",
    "grouped_df3.columns = [\"Patient_ID\", \"Count3\"]\n",
    "merged_inner3 = pd.merge(left=merged_inner2,right=grouped_df3, how='left',left_on='Patient_ID', right_on='Patient_ID')\n",
    "merged_inner3['Count1']=merged_inner3['Count1'].fillna(0)\n",
    "merged_inner3['Count2']=merged_inner3['Count2'].fillna(0)\n",
    "merged_inner3['Count3']=merged_inner3['Count3'].fillna(0)"
   ]
  },
  {
   "cell_type": "code",
   "execution_count": 432,
   "metadata": {
    "collapsed": false
   },
   "outputs": [
    {
     "data": {
      "text/plain": [
       "Index(['Patient_ID', 'Online_Follower', 'LinkedIn_Shared', 'Twitter_Shared',\n",
       "       'Facebook_Shared', 'Income', 'Education_Score', 'Age',\n",
       "       'First_Interaction', 'City_Type', 'Employer_Category', 'Count1',\n",
       "       'Count2', 'Count3'],\n",
       "      dtype='object')"
      ]
     },
     "execution_count": 432,
     "metadata": {},
     "output_type": "execute_result"
    }
   ],
   "source": [
    "merged_inner3.columns"
   ]
  },
  {
   "cell_type": "code",
   "execution_count": 433,
   "metadata": {
    "collapsed": false
   },
   "outputs": [
    {
     "data": {
      "text/plain": [
       "Index(['Patient_ID', 'Health_Camp_ID', 'Registration_Date', 'Var1', 'Var2',\n",
       "       'Var3', 'Var4', 'Var5', 'Outcome'],\n",
       "      dtype='object')"
      ]
     },
     "execution_count": 433,
     "metadata": {},
     "output_type": "execute_result"
    }
   ],
   "source": [
    "test.columns"
   ]
  },
  {
   "cell_type": "code",
   "execution_count": 434,
   "metadata": {
    "collapsed": false
   },
   "outputs": [
    {
     "data": {
      "text/plain": [
       "Index(['Patient_ID', 'Health_Camp_ID', 'Registration_Date', 'Var1', 'Var2',\n",
       "       'Var3', 'Var4', 'Var5', 'Outcome'],\n",
       "      dtype='object')"
      ]
     },
     "execution_count": 434,
     "metadata": {},
     "output_type": "execute_result"
    }
   ],
   "source": [
    "train.columns"
   ]
  },
  {
   "cell_type": "code",
   "execution_count": 435,
   "metadata": {
    "collapsed": false
   },
   "outputs": [],
   "source": [
    "raw_features = ['Patient_ID', 'Health_Camp_ID', 'Registration_Date', 'Var1', 'Var2',\n",
    "       'Var3', 'Var4', 'Var5']"
   ]
  },
  {
   "cell_type": "code",
   "execution_count": 436,
   "metadata": {
    "collapsed": false
   },
   "outputs": [],
   "source": [
    "# Join the features from train and test together before imputing missing values,\n",
    "# in case their distribution is slightly different\n",
    "train_test = train[raw_features].append(test[raw_features])\n"
   ]
  },
  {
   "cell_type": "code",
   "execution_count": 437,
   "metadata": {
    "collapsed": false
   },
   "outputs": [],
   "source": [
    "merged_inner4 = pd.merge(left=train_test,right=merged_inner3, how='left',left_on='Patient_ID', right_on='Patient_ID')"
   ]
  },
  {
   "cell_type": "code",
   "execution_count": 438,
   "metadata": {
    "collapsed": false
   },
   "outputs": [],
   "source": [
    "health_camp_det = pd.read_csv( data_path + \"Health_Camp_Detail.csv\" )"
   ]
  },
  {
   "cell_type": "code",
   "execution_count": 439,
   "metadata": {
    "collapsed": false
   },
   "outputs": [
    {
     "name": "stdout",
     "output_type": "stream",
     "text": [
      "110527\n",
      "65\n",
      "110527\n"
     ]
    }
   ],
   "source": [
    "print(len(merged_inner4))\n",
    "print(len(health_camp_det))\n",
    "merged_inner5 = pd.merge(left=merged_inner4,right=health_camp_det, how='left',left_on='Health_Camp_ID', right_on='Health_Camp_ID')\n",
    "print(len(merged_inner5))"
   ]
  },
  {
   "cell_type": "code",
   "execution_count": 440,
   "metadata": {
    "collapsed": false
   },
   "outputs": [],
   "source": [
    "merged_sort = merged_inner5"
   ]
  },
  {
   "cell_type": "code",
   "execution_count": 441,
   "metadata": {
    "collapsed": false
   },
   "outputs": [
    {
     "data": {
      "text/plain": [
       "Patient_ID               0\n",
       "Health_Camp_ID           0\n",
       "Registration_Date      334\n",
       "Var1                     0\n",
       "Var2                     0\n",
       "Var3                     0\n",
       "Var4                     0\n",
       "Var5                     0\n",
       "Online_Follower          0\n",
       "LinkedIn_Shared          0\n",
       "Twitter_Shared           0\n",
       "Facebook_Shared          0\n",
       "Income                   0\n",
       "Education_Score          0\n",
       "Age                      0\n",
       "First_Interaction        0\n",
       "City_Type            46602\n",
       "Employer_Category    90963\n",
       "Count1                   0\n",
       "Count2                   0\n",
       "Count3                   0\n",
       "Camp_Start_Date          0\n",
       "Camp_End_Date            0\n",
       "Category1                0\n",
       "Category2                0\n",
       "Category3                0\n",
       "dtype: int64"
      ]
     },
     "execution_count": 441,
     "metadata": {},
     "output_type": "execute_result"
    }
   ],
   "source": [
    "merged_sort.isnull().sum()"
   ]
  },
  {
   "cell_type": "code",
   "execution_count": 442,
   "metadata": {
    "collapsed": false
   },
   "outputs": [],
   "source": [
    "#date transfromations\n",
    "merged_sort['Camp_End_Date'] = pd.to_datetime(merged_sort['Camp_End_Date'] ,format = '%d-%b-%y')\n",
    "merged_sort['Camp_Start_Date'] = pd.to_datetime(merged_sort['Camp_Start_Date'] ,format = '%d-%b-%y')\n",
    "merged_sort['\n",
    "            '] = pd.to_datetime(merged_sort['First_Interaction'] ,format = '%d-%b-%y')\n",
    "merged_sort['Registration_Date'] = pd.to_datetime(merged_sort['Registration_Date'] ,format = '%d-%b-%y')\n",
    "merged_sort['Camp_Duration'] = (merged_sort['Camp_End_Date'] - merged_sort['Camp_Start_Date']).dt.days\n",
    "merged_sort['Patient_Response'] = (merged_sort['Camp_Start_Date'] - merged_sort['First_Interaction']).dt.days\n",
    "\n",
    "#registration date nan handling \n",
    "merged_sort['Patient_Response'].fillna(merged_sort.groupby(\"Health_Camp_ID\")[\"Patient_Response\"].transform(\"mean\"), inplace=True)\n",
    "merged_sort['Patient_Response'].fillna(merged_sort['Patient_Response'].mean(), inplace=True)"
   ]
  },
  {
   "cell_type": "code",
   "execution_count": 443,
   "metadata": {
    "collapsed": false
   },
   "outputs": [],
   "source": [
    "#city \n",
    "merged_sort['City_Type'] = merged_sort['City_Type'].replace(np.nan,'Z', regex=True)\n",
    "merged_sort['Employer_Category'] = merged_sort['Employer_Category'].replace(np.nan,'unknown', regex=True)"
   ]
  },
  {
   "cell_type": "code",
   "execution_count": 444,
   "metadata": {
    "collapsed": false
   },
   "outputs": [
    {
     "name": "stderr",
     "output_type": "stream",
     "text": [
      "C:\\Users\\Subba Reddy Yeruva\\Anaconda3\\lib\\site-packages\\ipykernel\\__main__.py:2: FutureWarning: convert_objects is deprecated.  Use the data-type specific converters pd.to_datetime, pd.to_timedelta and pd.to_numeric.\n",
      "  from ipykernel import kernelapp as app\n"
     ]
    }
   ],
   "source": [
    "#income\n",
    "merged_sort['Income'] = merged_sort['Income'].convert_objects(convert_numeric=True)\n",
    "#merged_sort['Income'] = merged_sort['Income'].fillna(0)\n",
    "merged_sort['Income'].fillna(merged_sort['Income'].mean(), inplace=True)"
   ]
  },
  {
   "cell_type": "code",
   "execution_count": 445,
   "metadata": {
    "collapsed": false
   },
   "outputs": [
    {
     "name": "stderr",
     "output_type": "stream",
     "text": [
      "C:\\Users\\Subba Reddy Yeruva\\Anaconda3\\lib\\site-packages\\ipykernel\\__main__.py:2: FutureWarning: convert_objects is deprecated.  Use the data-type specific converters pd.to_datetime, pd.to_timedelta and pd.to_numeric.\n",
      "  from ipykernel import kernelapp as app\n"
     ]
    }
   ],
   "source": [
    "#age\n",
    "merged_sort['Age'] = merged_sort['Age'].convert_objects(convert_numeric=True)\n",
    "merged_sort['Age'].fillna(merged_sort['Age'].mean(), inplace=True)"
   ]
  },
  {
   "cell_type": "code",
   "execution_count": 446,
   "metadata": {
    "collapsed": false
   },
   "outputs": [
    {
     "name": "stderr",
     "output_type": "stream",
     "text": [
      "C:\\Users\\Subba Reddy Yeruva\\Anaconda3\\lib\\site-packages\\ipykernel\\__main__.py:2: FutureWarning: convert_objects is deprecated.  Use the data-type specific converters pd.to_datetime, pd.to_timedelta and pd.to_numeric.\n",
      "  from ipykernel import kernelapp as app\n"
     ]
    }
   ],
   "source": [
    "#education score\n",
    "merged_sort['Education_Score'] = merged_sort['Education_Score'].convert_objects(convert_numeric=True)\n",
    "merged_sort['Education_Score'].fillna(merged_sort['Education_Score'].mean(), inplace=True)\n"
   ]
  },
  {
   "cell_type": "code",
   "execution_count": 447,
   "metadata": {
    "collapsed": false
   },
   "outputs": [
    {
     "data": {
      "text/plain": [
       "Patient_ID             0\n",
       "Health_Camp_ID         0\n",
       "Registration_Date    334\n",
       "Var1                   0\n",
       "Var2                   0\n",
       "Var3                   0\n",
       "Var4                   0\n",
       "Var5                   0\n",
       "Online_Follower        0\n",
       "LinkedIn_Shared        0\n",
       "Twitter_Shared         0\n",
       "Facebook_Shared        0\n",
       "Income                 0\n",
       "Education_Score        0\n",
       "Age                    0\n",
       "First_Interaction      0\n",
       "City_Type              0\n",
       "Employer_Category      0\n",
       "Count1                 0\n",
       "Count2                 0\n",
       "Count3                 0\n",
       "Camp_Start_Date        0\n",
       "Camp_End_Date          0\n",
       "Category1              0\n",
       "Category2              0\n",
       "Category3              0\n",
       "Camp_Duration          0\n",
       "Patient_Response       0\n",
       "dtype: int64"
      ]
     },
     "execution_count": 447,
     "metadata": {},
     "output_type": "execute_result"
    }
   ],
   "source": [
    "merged_sort.isnull().sum()"
   ]
  },
  {
   "cell_type": "code",
   "execution_count": 448,
   "metadata": {
    "collapsed": false
   },
   "outputs": [],
   "source": [
    "#traintest_intermediate = merged_sort\n",
    "\n",
    "#from sklearn.preprocessing import LabelEncoder\n",
    "\n",
    "#nonnumeric_columns = ['City_Type','Employer_Category']\n",
    "#le = LabelEncoder()\n",
    "#for feature in nonnumeric_columns:\n",
    "#    traintest_intermediate[feature] = le.fit_transform(traintest_intermediate[feature])"
   ]
  },
  {
   "cell_type": "code",
   "execution_count": 449,
   "metadata": {
    "collapsed": false
   },
   "outputs": [],
   "source": [
    "traintest_intermediate = merged_sort"
   ]
  },
  {
   "cell_type": "code",
   "execution_count": 450,
   "metadata": {
    "collapsed": false
   },
   "outputs": [
    {
     "name": "stdout",
     "output_type": "stream",
     "text": [
      "110527\n"
     ]
    }
   ],
   "source": [
    "print(len(traintest_intermediate))"
   ]
  },
  {
   "cell_type": "code",
   "execution_count": 451,
   "metadata": {
    "collapsed": false
   },
   "outputs": [],
   "source": [
    "City_Type_dummies = pd.get_dummies(merged_sort.City_Type)\n",
    "City_Type_dummies['Patient_ID']=merged_sort.Patient_ID\n",
    "City_Type_dummies['Health_Camp_ID']=merged_sort.Health_Camp_ID\n",
    "Emply_Cat_dummies =  pd.get_dummies(merged_sort.Employer_Category)\n",
    "Emply_Cat_dummies['Patient_ID']=merged_sort.Patient_ID\n",
    "Emply_Cat_dummies['Health_Camp_ID']=merged_sort.Health_Camp_ID"
   ]
  },
  {
   "cell_type": "code",
   "execution_count": 452,
   "metadata": {
    "collapsed": true
   },
   "outputs": [],
   "source": [
    "merged_sort.reset_index(inplace=True)\n",
    "City_Type_dummies.reset_index(inplace=True)"
   ]
  },
  {
   "cell_type": "code",
   "execution_count": 453,
   "metadata": {
    "collapsed": false
   },
   "outputs": [],
   "source": [
    "traintest_intermediate0 = merged_sort.merge(City_Type_dummies, on=['Patient_ID','Health_Camp_ID'], how='left')"
   ]
  },
  {
   "cell_type": "code",
   "execution_count": 454,
   "metadata": {
    "collapsed": false
   },
   "outputs": [
    {
     "name": "stdout",
     "output_type": "stream",
     "text": [
      "110527\n",
      "110527\n",
      "110527\n"
     ]
    }
   ],
   "source": [
    "print(len(traintest_intermediate0))\n",
    "print(len(City_Type_dummies))\n",
    "print(len(merged_sort))"
   ]
  },
  {
   "cell_type": "code",
   "execution_count": 455,
   "metadata": {
    "collapsed": false
   },
   "outputs": [],
   "source": [
    "#print(City_Type_dummies.dtypes)\n",
    "#print(merged_sort.dtypes)"
   ]
  },
  {
   "cell_type": "code",
   "execution_count": 456,
   "metadata": {
    "collapsed": true
   },
   "outputs": [],
   "source": [
    "#City_Type_dummies.to_csv('City_Type_dummies.csv',index = False)"
   ]
  },
  {
   "cell_type": "code",
   "execution_count": 457,
   "metadata": {
    "collapsed": true
   },
   "outputs": [],
   "source": [
    "#merged_sort.to_csv('traintest_intermediate.csv',index = False)"
   ]
  },
  {
   "cell_type": "code",
   "execution_count": 458,
   "metadata": {
    "collapsed": false
   },
   "outputs": [
    {
     "data": {
      "text/plain": [
       "Index(['index_x', 'Patient_ID', 'Health_Camp_ID', 'Registration_Date', 'Var1',\n",
       "       'Var2', 'Var3', 'Var4', 'Var5', 'Online_Follower', 'LinkedIn_Shared',\n",
       "       'Twitter_Shared', 'Facebook_Shared', 'Income', 'Education_Score', 'Age',\n",
       "       'First_Interaction', 'City_Type', 'Employer_Category', 'Count1',\n",
       "       'Count2', 'Count3', 'Camp_Start_Date', 'Camp_End_Date', 'Category1',\n",
       "       'Category2', 'Category3', 'Camp_Duration', 'Patient_Response',\n",
       "       'index_y', 'A', 'B', 'C', 'D', 'E', 'F', 'G', 'H', 'I', 'Z'],\n",
       "      dtype='object')"
      ]
     },
     "execution_count": 458,
     "metadata": {},
     "output_type": "execute_result"
    }
   ],
   "source": [
    "traintest_intermediate0.columns"
   ]
  },
  {
   "cell_type": "code",
   "execution_count": 459,
   "metadata": {
    "collapsed": false
   },
   "outputs": [],
   "source": [
    "\n",
    "traintest_intermediate = traintest_intermediate0.merge(Emply_Cat_dummies, on=['Patient_ID','Health_Camp_ID'], how='left')"
   ]
  },
  {
   "cell_type": "code",
   "execution_count": 460,
   "metadata": {
    "collapsed": false
   },
   "outputs": [
    {
     "data": {
      "text/plain": [
       "Index(['First', 'Second', 'Third'], dtype='object')"
      ]
     },
     "execution_count": 460,
     "metadata": {},
     "output_type": "execute_result"
    }
   ],
   "source": [
    "Category1_dummies = pd.get_dummies(merged_sort.Category1)\n",
    "Category1_dummies.columns"
   ]
  },
  {
   "cell_type": "code",
   "execution_count": 461,
   "metadata": {
    "collapsed": true
   },
   "outputs": [],
   "source": [
    "traintest_intermediate['First'] = Category1_dummies.First\n",
    "traintest_intermediate['Second'] = Category1_dummies.Second\n",
    "traintest_intermediate['Third'] = Category1_dummies.Third\n",
    "\n"
   ]
  },
  {
   "cell_type": "code",
   "execution_count": 462,
   "metadata": {
    "collapsed": false
   },
   "outputs": [
    {
     "data": {
      "text/plain": [
       "Index(['A', 'B', 'C', 'D', 'E', 'F', 'G'], dtype='object')"
      ]
     },
     "execution_count": 462,
     "metadata": {},
     "output_type": "execute_result"
    }
   ],
   "source": [
    "Category2_dummies = pd.get_dummies(merged_sort.Category2)\n",
    "Category2_dummies.columns"
   ]
  },
  {
   "cell_type": "code",
   "execution_count": 463,
   "metadata": {
    "collapsed": true
   },
   "outputs": [],
   "source": [
    "traintest_intermediate['Category2_A'] = Category2_dummies.A\n",
    "traintest_intermediate['Category2_B'] = Category2_dummies.B\n",
    "traintest_intermediate['Category2_C'] = Category2_dummies.C\n",
    "traintest_intermediate['Category2_D'] = Category2_dummies.D\n",
    "traintest_intermediate['Category2_E'] = Category2_dummies.E\n",
    "traintest_intermediate['Category2_F'] = Category2_dummies.F\n",
    "traintest_intermediate['Category2_G'] = Category2_dummies.G\n"
   ]
  },
  {
   "cell_type": "code",
   "execution_count": 464,
   "metadata": {
    "collapsed": false
   },
   "outputs": [
    {
     "data": {
      "text/plain": [
       "Index(['cat3_1', 'cat3_2'], dtype='object')"
      ]
     },
     "execution_count": 464,
     "metadata": {},
     "output_type": "execute_result"
    }
   ],
   "source": [
    "#Category3_dummies = pd.get_dummies(merged_sort.Category3)\n",
    "Category3_dummies = pd.get_dummies(merged_sort.Category3, prefix='cat3', prefix_sep='_')\n",
    "Category3_dummies.columns"
   ]
  },
  {
   "cell_type": "code",
   "execution_count": 465,
   "metadata": {
    "collapsed": false
   },
   "outputs": [],
   "source": [
    "traintest_intermediate['Category3_1'] = Category3_dummies.cat3_1\n",
    "traintest_intermediate['Category3_2'] = Category3_dummies.cat3_2"
   ]
  },
  {
   "cell_type": "code",
   "execution_count": 466,
   "metadata": {
    "collapsed": false
   },
   "outputs": [
    {
     "data": {
      "text/plain": [
       "Index(['Income_0', 'Income_1', 'Income_2', 'Income_3', 'Income_4', 'Income_5',\n",
       "       'Income_6'],\n",
       "      dtype='object')"
      ]
     },
     "execution_count": 466,
     "metadata": {},
     "output_type": "execute_result"
    }
   ],
   "source": [
    "merged_sort['Income'] = merged_sort['Income'].astype(np.int32)\n",
    "Income_dummies = pd.get_dummies(merged_sort.Income, prefix='Income', prefix_sep='_')\n",
    "Income_dummies.columns"
   ]
  },
  {
   "cell_type": "code",
   "execution_count": 467,
   "metadata": {
    "collapsed": false
   },
   "outputs": [],
   "source": [
    "traintest_intermediate['Income_0.0'] = Income_dummies.Income_0\n",
    "traintest_intermediate['Income_1.0'] = Income_dummies.Income_1\n",
    "traintest_intermediate['Income_2.0'] = Income_dummies.Income_2\n",
    "traintest_intermediate['Income_3.0'] = Income_dummies.Income_3\n",
    "traintest_intermediate['Income_4.0'] = Income_dummies.Income_4\n",
    "traintest_intermediate['Income_5.0'] = Income_dummies.Income_5\n",
    "traintest_intermediate['Income_6.0'] = Income_dummies.Income_6\n"
   ]
  },
  {
   "cell_type": "code",
   "execution_count": 468,
   "metadata": {
    "collapsed": false
   },
   "outputs": [
    {
     "data": {
      "text/plain": [
       "Index(['Onlinef_0', 'Onlinef_1', 'Onlinef_2', 'Onlinef_3', 'Onlinef_4',\n",
       "       'Onlinef_5', 'Onlinef_6'],\n",
       "      dtype='object')"
      ]
     },
     "execution_count": 468,
     "metadata": {},
     "output_type": "execute_result"
    }
   ],
   "source": [
    "merged_sort['Online_Follower'] = merged_sort['Online_Follower'].astype(np.int32)\n",
    "Online_F_dummies = pd.get_dummies(merged_sort.Income, prefix='Onlinef', prefix_sep='_')\n",
    "Online_F_dummies.columns"
   ]
  },
  {
   "cell_type": "code",
   "execution_count": 469,
   "metadata": {
    "collapsed": true
   },
   "outputs": [],
   "source": [
    "traintest_intermediate['Onlinef_0'] = Online_F_dummies.Onlinef_0\n",
    "traintest_intermediate['Onlinef_1'] = Online_F_dummies.Onlinef_1\n",
    "traintest_intermediate['Onlinef_2'] = Online_F_dummies.Onlinef_2\n",
    "traintest_intermediate['Onlinef_3'] = Online_F_dummies.Onlinef_3\n",
    "traintest_intermediate['Onlinef_4'] = Online_F_dummies.Onlinef_4\n",
    "traintest_intermediate['Onlinef_5'] = Online_F_dummies.Onlinef_5\n",
    "traintest_intermediate['Onlinef_6'] = Online_F_dummies.Onlinef_6\n",
    "\n"
   ]
  },
  {
   "cell_type": "code",
   "execution_count": 470,
   "metadata": {
    "collapsed": false
   },
   "outputs": [
    {
     "data": {
      "text/plain": [
       "Index(['Linkedin_0', 'Linkedin_1', 'Linkedin_2', 'Linkedin_3', 'Linkedin_4',\n",
       "       'Linkedin_5', 'Linkedin_6'],\n",
       "      dtype='object')"
      ]
     },
     "execution_count": 470,
     "metadata": {},
     "output_type": "execute_result"
    }
   ],
   "source": [
    "merged_sort['LinkedIn_Shared'] = merged_sort['LinkedIn_Shared'].astype(np.int32)\n",
    "LinkedIn_S_dummies = pd.get_dummies(merged_sort.Income, prefix='Linkedin', prefix_sep='_')\n",
    "LinkedIn_S_dummies.columns"
   ]
  },
  {
   "cell_type": "code",
   "execution_count": 471,
   "metadata": {
    "collapsed": true
   },
   "outputs": [],
   "source": [
    "traintest_intermediate['Linkedin_0'] = LinkedIn_S_dummies.Linkedin_0\n",
    "traintest_intermediate['Linkedin_1'] = LinkedIn_S_dummies.Linkedin_1\n",
    "traintest_intermediate['Linkedin_2'] = LinkedIn_S_dummies.Linkedin_2\n",
    "traintest_intermediate['Linkedin_3'] = LinkedIn_S_dummies.Linkedin_3\n",
    "traintest_intermediate['Linkedin_4'] = LinkedIn_S_dummies.Linkedin_4\n",
    "traintest_intermediate['Linkedin_5'] = LinkedIn_S_dummies.Linkedin_5\n",
    "traintest_intermediate['Linkedin_6'] = LinkedIn_S_dummies.Linkedin_6\n"
   ]
  },
  {
   "cell_type": "code",
   "execution_count": 472,
   "metadata": {
    "collapsed": false
   },
   "outputs": [
    {
     "data": {
      "text/plain": [
       "Index(['TwitterS_0', 'TwitterS_1', 'TwitterS_2', 'TwitterS_3', 'TwitterS_4',\n",
       "       'TwitterS_5', 'TwitterS_6'],\n",
       "      dtype='object')"
      ]
     },
     "execution_count": 472,
     "metadata": {},
     "output_type": "execute_result"
    }
   ],
   "source": [
    "merged_sort['Twitter_Shared'] = merged_sort['Twitter_Shared'].astype(np.int32)\n",
    "TwitterS_dummies = pd.get_dummies(merged_sort.Income, prefix='TwitterS', prefix_sep='_')\n",
    "TwitterS_dummies.columns"
   ]
  },
  {
   "cell_type": "code",
   "execution_count": 473,
   "metadata": {
    "collapsed": true
   },
   "outputs": [],
   "source": [
    "traintest_intermediate['TwitterS_0'] = TwitterS_dummies.TwitterS_0\n",
    "traintest_intermediate['TwitterS_1'] = TwitterS_dummies.TwitterS_1\n",
    "traintest_intermediate['TwitterS_2'] = TwitterS_dummies.TwitterS_2\n",
    "traintest_intermediate['TwitterS_3'] = TwitterS_dummies.TwitterS_3\n",
    "traintest_intermediate['TwitterS_4'] = TwitterS_dummies.TwitterS_4\n",
    "traintest_intermediate['TwitterS_5'] = TwitterS_dummies.TwitterS_5\n",
    "traintest_intermediate['TwitterS_6'] = TwitterS_dummies.TwitterS_6\n",
    "\n"
   ]
  },
  {
   "cell_type": "code",
   "execution_count": 474,
   "metadata": {
    "collapsed": false
   },
   "outputs": [
    {
     "data": {
      "text/plain": [
       "Index(['Facebook_0', 'Facebook_1', 'Facebook_2', 'Facebook_3', 'Facebook_4',\n",
       "       'Facebook_5', 'Facebook_6'],\n",
       "      dtype='object')"
      ]
     },
     "execution_count": 474,
     "metadata": {},
     "output_type": "execute_result"
    }
   ],
   "source": [
    "merged_sort['Facebook_Shared'] = merged_sort['Facebook_Shared'].astype(np.int32)\n",
    "Facebook_dummies = pd.get_dummies(merged_sort.Income, prefix='Facebook', prefix_sep='_')\n",
    "Facebook_dummies.columns"
   ]
  },
  {
   "cell_type": "code",
   "execution_count": 475,
   "metadata": {
    "collapsed": true
   },
   "outputs": [],
   "source": [
    "traintest_intermediate['Facebook_0'] = Facebook_dummies.Facebook_0\n",
    "traintest_intermediate['Facebook_1'] = Facebook_dummies.Facebook_1\n",
    "traintest_intermediate['Facebook_2'] = Facebook_dummies.Facebook_2\n",
    "traintest_intermediate['Facebook_3'] = Facebook_dummies.Facebook_3\n",
    "traintest_intermediate['Facebook_4'] = Facebook_dummies.Facebook_4\n",
    "traintest_intermediate['Facebook_5'] = Facebook_dummies.Facebook_5\n",
    "traintest_intermediate['Facebook_6'] = Facebook_dummies.Facebook_6\n",
    "\n"
   ]
  },
  {
   "cell_type": "code",
   "execution_count": 476,
   "metadata": {
    "collapsed": false
   },
   "outputs": [
    {
     "name": "stdout",
     "output_type": "stream",
     "text": [
      "110527\n",
      "110527\n",
      "110527\n"
     ]
    }
   ],
   "source": [
    "print(len(traintest_intermediate0))\n",
    "print(len(Emply_Cat_dummies))\n",
    "print(len(traintest_intermediate))"
   ]
  },
  {
   "cell_type": "code",
   "execution_count": 477,
   "metadata": {
    "collapsed": false
   },
   "outputs": [
    {
     "data": {
      "text/plain": [
       "Index(['index_x', 'Patient_ID', 'Health_Camp_ID', 'Registration_Date', 'Var1',\n",
       "       'Var2', 'Var3', 'Var4', 'Var5', 'Online_Follower',\n",
       "       ...\n",
       "       'TwitterS_4', 'TwitterS_5', 'TwitterS_6', 'Facebook_0', 'Facebook_1',\n",
       "       'Facebook_2', 'Facebook_3', 'Facebook_4', 'Facebook_5', 'Facebook_6'],\n",
       "      dtype='object', length=102)"
      ]
     },
     "execution_count": 477,
     "metadata": {},
     "output_type": "execute_result"
    }
   ],
   "source": [
    "traintest_intermediate.columns"
   ]
  },
  {
   "cell_type": "code",
   "execution_count": 478,
   "metadata": {
    "collapsed": false
   },
   "outputs": [],
   "source": [
    "#traintest_intermediate.head()\n",
    "#traintest_intermediate.to_csv('merged_sortf9.csv',index = False)"
   ]
  },
  {
   "cell_type": "code",
   "execution_count": 479,
   "metadata": {
    "collapsed": false
   },
   "outputs": [],
   "source": [
    "# Prepare the inputs for the model\n",
    "#train_modified = traintest_intermediate[0:train.shape[0]].as_matrix()\n",
    "#test_modified = traintest_intermediate[train.shape[0]::].as_matrix()\n",
    "train_modified = traintest_intermediate[0:train.shape[0]]\n",
    "test_modified = traintest_intermediate[train.shape[0]::]\n"
   ]
  },
  {
   "cell_type": "code",
   "execution_count": 480,
   "metadata": {
    "collapsed": false
   },
   "outputs": [],
   "source": [
    "#Features for model\n",
    "feature_cols = ['Var1', 'Var2','Var3', 'Var4', 'Var5', 'Camp_Duration', 'Patient_Response','Income','Age',\n",
    "        'Education_Score','A', 'B',\n",
    "       'C', 'D', 'E', 'F', 'G', 'H', 'I', 'Z', 'BFSI', 'Broadcasting',\n",
    "       'Consulting', 'Education', 'Food', 'Health', 'Manufacturing', 'Others',\n",
    "       'Real Estate', 'Retail', 'Software Industry', 'Technology', 'Telecom',\n",
    "       'Transport', 'unknown',\n",
    "        'First', 'Second',\n",
    "       'Third', 'Category2_A', 'Category2_B', 'Category2_C', 'Category2_D',\n",
    "       'Category2_E', 'Category2_F', 'Category2_G',\n",
    "                'Onlinef_0', 'Onlinef_1', 'Onlinef_2', 'Onlinef_3', 'Onlinef_4',\n",
    "       'Onlinef_5', 'Onlinef_6',\n",
    "'Linkedin_0', 'Linkedin_1', 'Linkedin_2', 'Linkedin_3', 'Linkedin_4',\n",
    "       'Linkedin_5', 'Linkedin_6',\n",
    "'TwitterS_0', 'TwitterS_1', 'TwitterS_2', 'TwitterS_3', 'TwitterS_4',\n",
    "       'TwitterS_5', 'TwitterS_6',\n",
    "'Facebook_0', 'Facebook_1', 'Facebook_2', 'Facebook_3', 'Facebook_4',\n",
    "       'Facebook_5', 'Facebook_6'\n",
    "               ]\n",
    "output = ['Outcome']\n",
    "#,'Count1','Count2', 'Count3', ,'Count1','Count2', 'Count3','Category3_1',\n",
    "#       'Category3_2', 'Income_0.0', 'Income_1.0', 'Income_2.0', 'Income_3.0',\n",
    "#       'Income_4.0', 'Income_5.0', 'Income_6.0'\n",
    "#Online_Follower', 'LinkedIn_Shared',   'Twitter_Shared', 'Facebook_Shared',\n",
    "    "
   ]
  },
  {
   "cell_type": "code",
   "execution_count": 481,
   "metadata": {
    "collapsed": false
   },
   "outputs": [],
   "source": [
    "#creation of data frames for model\n",
    "train_features = train_modified[feature_cols]\n",
    "train_output = train['Outcome']\n",
    "test_features  = test_modified[feature_cols]"
   ]
  },
  {
   "cell_type": "code",
   "execution_count": 482,
   "metadata": {
    "collapsed": false
   },
   "outputs": [
    {
     "name": "stdout",
     "output_type": "stream",
     "text": [
      "75278\n",
      "35249\n"
     ]
    }
   ],
   "source": [
    "print(len(train_features))\n",
    "print(len(test_features))"
   ]
  },
  {
   "cell_type": "code",
   "execution_count": 483,
   "metadata": {
    "collapsed": true
   },
   "outputs": [],
   "source": [
    "#sample_sub.to_csv('sample_submission.csv',index = False)"
   ]
  },
  {
   "cell_type": "code",
   "execution_count": null,
   "metadata": {
    "collapsed": false
   },
   "outputs": [],
   "source": [
    "#train_features.to_csv('train_features.csv',index = False)"
   ]
  },
  {
   "cell_type": "code",
   "execution_count": 485,
   "metadata": {
    "collapsed": false
   },
   "outputs": [],
   "source": [
    "#Random forest model \n",
    "\n",
    "from sklearn.ensemble import RandomForestClassifier\n",
    "# the data have to be in a numpy array in order for\n",
    "# the random forest algorithm to accept it!\n",
    "# Also, output must be separated.\n",
    "\n",
    "## Training!\n",
    "rf = RandomForestClassifier(n_estimators=100) # initialize\n",
    "rf.fit(train_features, train_output) # fit the data to the algorithm\n",
    "# note - you might get an warning saying you entered a 2 column\n",
    "# vector..ignore it. If you know how to get around this warning,\n",
    "# please comment! The algorithm seems to work anyway.\n",
    "## Testing!\n",
    "# put the test data in the same format!\n",
    "#results = rf.predict(test_set)\n",
    "prob = rf.predict_proba(test_features)[:,1]"
   ]
  },
  {
   "cell_type": "code",
   "execution_count": 486,
   "metadata": {
    "collapsed": false
   },
   "outputs": [],
   "source": [
    "test['Outcome'] = prob"
   ]
  },
  {
   "cell_type": "code",
   "execution_count": 487,
   "metadata": {
    "collapsed": false
   },
   "outputs": [],
   "source": [
    "\n",
    "sample_features = ['Patient_ID','Health_Camp_ID','Outcome']\n",
    "sample_sub = test[sample_features]\n",
    "sample_sub.to_csv('sample_submission.csv',index = False)"
   ]
  },
  {
   "cell_type": "code",
   "execution_count": 488,
   "metadata": {
    "collapsed": false
   },
   "outputs": [
    {
     "name": "stdout",
     "output_type": "stream",
     "text": [
      "35249\n"
     ]
    }
   ],
   "source": [
    "print(len(sample_sub))"
   ]
  },
  {
   "cell_type": "code",
   "execution_count": 489,
   "metadata": {
    "collapsed": false
   },
   "outputs": [],
   "source": [
    "# XGBoost Model\n",
    "import xgboost as xgb\n",
    "from sklearn.preprocessing import LabelEncoder\n",
    "\n",
    "gbm = xgb.XGBClassifier(max_depth=3, n_estimators=500, learning_rate=0.05, \n",
    "                        objective='binary:logistic').fit(train_features, train_output)\n",
    "predictions = gbm.predict(test_features)\n",
    "\n",
    "\n",
    "\n",
    "#'Patient_ID','Health_Camp_ID','Outcome'\n",
    "\n",
    "submission = pd.DataFrame({ 'Patient_ID': test['Patient_ID'],\n",
    "                            'Health_Camp_ID': test['Health_Camp_ID'],\n",
    "                            'Outcome': predictions })\n",
    "submission.to_csv(\"sample_submission.csv\", index=False)"
   ]
  },
  {
   "cell_type": "code",
   "execution_count": 490,
   "metadata": {
    "collapsed": false
   },
   "outputs": [
    {
     "data": {
      "text/plain": [
       "<matplotlib.axes._subplots.AxesSubplot at 0xe471c22710>"
      ]
     },
     "execution_count": 490,
     "metadata": {},
     "output_type": "execute_result"
    },
    {
     "data": {
      "image/png": "[encoded data removed]",
      "text/plain": [
       "<matplotlib.figure.Figure at 0xe4018d5320>"
      ]
     },
     "metadata": {},
     "output_type": "display_data"
    }
   ],
   "source": [
    "xgb.plot_importance(gbm)"
   ]
  },
  {
   "cell_type": "markdown",
   "metadata": {},
   "source": []
  },
  {
   "cell_type": "code",
   "execution_count": 491,
   "metadata": {
    "collapsed": false
   },
   "outputs": [
    {
     "data": {
      "text/plain": [
       "<bound method XGBClassifier.evals_result of XGBClassifier(base_score=0.5, colsample_bylevel=1, colsample_bytree=1,\n",
       "       gamma=0, learning_rate=0.05, max_delta_step=0, max_depth=3,\n",
       "       min_child_weight=1, missing=None, n_estimators=500, nthread=-1,\n",
       "       objective='binary:logistic', reg_alpha=0, reg_lambda=1,\n",
       "       scale_pos_weight=1, seed=0, silent=True, subsample=1)>"
      ]
     },
     "execution_count": 491,
     "metadata": {},
     "output_type": "execute_result"
    }
   ],
   "source": [
    "gbm.evals_result\n"
   ]
  },
  {
   "cell_type": "code",
   "execution_count": 492,
   "metadata": {
    "collapsed": false
   },
   "outputs": [
    {
     "data": {
      "text/plain": [
       "array([ 0.06027728,  0.01386377,  0.        ,  0.0021097 ,  0.02561784,\n",
       "        0.16696805,  0.24954791,  0.03676914,  0.07414105,  0.10186859,\n",
       "        0.00964436,  0.01084991,  0.00361664,  0.00391802,  0.00060277,\n",
       "        0.0045208 ,  0.00271248,  0.013261  ,  0.0021097 ,  0.02320675,\n",
       "        0.00030139,  0.00542495,  0.00180832,  0.00030139,  0.00723327,\n",
       "        0.00421941,  0.00723327,  0.0045208 ,  0.        ,  0.00331525,\n",
       "        0.0045208 ,  0.00602773,  0.00391802,  0.        ,  0.01145268,\n",
       "        0.03134418,  0.00090416,  0.00602773,  0.00964436,  0.01959012,\n",
       "        0.02019289,  0.00120555,  0.02863171,  0.00391802,  0.        ,\n",
       "        0.        ,  0.00783605,  0.00090416,  0.        ,  0.00391802,\n",
       "        0.        ,  0.        ,  0.        ,  0.        ,  0.        ,\n",
       "        0.        ,  0.        ,  0.        ,  0.        ,  0.        ,\n",
       "        0.        ,  0.        ,  0.        ,  0.        ,  0.        ,\n",
       "        0.        ,  0.        ,  0.        ,  0.        ,  0.        ,\n",
       "        0.        ,  0.        ,  0.        ], dtype=float32)"
      ]
     },
     "execution_count": 492,
     "metadata": {},
     "output_type": "execute_result"
    }
   ],
   "source": [
    "gbm.feature_importances_"
   ]
  },
  {
   "cell_type": "code",
   "execution_count": 493,
   "metadata": {
    "collapsed": false
   },
   "outputs": [
    {
     "data": {
      "text/plain": [
       "0.5"
      ]
     },
     "execution_count": 493,
     "metadata": {},
     "output_type": "execute_result"
    }
   ],
   "source": [
    "gbm.base_score"
   ]
  },
  {
   "cell_type": "code",
   "execution_count": 494,
   "metadata": {
    "collapsed": false
   },
   "outputs": [
    {
     "data": {
      "text/plain": [
       "array([ 0.80652232,  0.80738576,  0.81004251,  0.80512752,  0.80178026])"
      ]
     },
     "execution_count": 494,
     "metadata": {},
     "output_type": "execute_result"
    }
   ],
   "source": [
    "from sklearn.cross_validation import cross_val_score\n",
    "cross_val_score(xgb.XGBClassifier(n_estimators=100), train_features, train_output, cv=5)"
   ]
  },
  {
   "cell_type": "code",
   "execution_count": null,
   "metadata": {
    "collapsed": false
   },
   "outputs": [],
   "source": []
  },
  {
   "cell_type": "code",
   "execution_count": 495,
   "metadata": {
    "collapsed": false
   },
   "outputs": [
    {
     "data": {
      "image/png": "[encoded data removed]",
      "text/plain": [
       "<matplotlib.figure.Figure at 0xe40b025fd0>"
      ]
     },
     "metadata": {},
     "output_type": "display_data"
    }
   ],
   "source": [
    "\n",
    "\n",
    "X_train1, X_test1, y_train1, y_test1 = train_test_split(train_features, train_output)\n",
    "clf = RandomForestRegressor(n_estimators=500, n_jobs=-1)\n",
    "\n",
    "clf.fit(X_train1, y_train1)\n",
    "y_pred = clf.predict(X_test1)\n",
    "\n",
    "plt.figure(figsize=(10, 5))\n",
    "plt.scatter(y_test1, y_pred, s=20)\n",
    "plt.title('Predicted vs. Actual')\n",
    "plt.xlabel('Actual Sale Price')\n",
    "plt.ylabel('Predicted Sale Price')\n",
    "\n",
    "plt.plot([min(y_test1), max(y_test1)], [min(y_test1), max(y_test1)])\n",
    "plt.tight_layout()"
   ]
  },
  {
   "cell_type": "code",
   "execution_count": 496,
   "metadata": {
    "collapsed": false
   },
   "outputs": [
    {
     "data": {
      "image/png": "[encoded data removed]",
      "text/plain": [
       "<matplotlib.figure.Figure at 0xe400961550>"
      ]
     },
     "metadata": {},
     "output_type": "display_data"
    }
   ],
   "source": [
    "import seaborn as sns\n",
    "import matplotlib.pyplot as plt\n",
    "%matplotlib inline\n",
    "# Fit model with training data\n",
    "clf.fit(train_features, train_output)\n",
    "\n",
    "# Output feature importance coefficients, map them to their feature name, and sort values\n",
    "coef = pd.Series(clf.feature_importances_, index = train_features.columns).sort_values(ascending=False)\n",
    "\n",
    "plt.figure(figsize=(10, 5))\n",
    "coef.head(25).plot(kind='bar')\n",
    "plt.title('Feature Significance')\n",
    "plt.tight_layout()"
   ]
  },
  {
   "cell_type": "code",
   "execution_count": null,
   "metadata": {
    "collapsed": true
   },
   "outputs": [],
   "source": []
  }
 ],
 "metadata": {
  "kernelspec": {
   "display_name": "Python 2",
   "language": "python",
   "name": "python2"
  },
  "language_info": {
   "codemirror_mode": {
    "name": "ipython",
    "version": 2
   },
   "file_extension": ".py",
   "mimetype": "text/x-python",
   "name": "python",
   "nbconvert_exporter": "python",
   "pygments_lexer": "ipython2",
   "version": "2.7.10"
  }
 },
 "nbformat": 4,
 "nbformat_minor": 0
}
